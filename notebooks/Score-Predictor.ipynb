{
 "cells": [
  {
   "cell_type": "markdown",
   "metadata": {},
   "source": [
    "# Major Leagues\n",
    "- EECS 731 Project 2\n",
    "- Author: Lazarus\n",
    "- ID : 3028051\n",
    " \n",
    " \n",
    "## Problem Statement\n",
    "### NFL, MLB, NBA and Soccer scores\n",
    "1. Set up a data science project structure in a new git repository in your GitHub account\n",
    "2. Pick one of the game data sets depending your sports preference\n",
    "https://github.com/fivethirtyeight/nfl-elo-game\n",
    "https://github.com/fivethirtyeight/data/tree/master/mlb-elo\n",
    "https://github.com/fivethirtyeight/data/tree/master/nba-carmelo\n",
    "https://github.com/fivethirtyeight/data/tree/master/soccer-spi\n",
    "3. Load the data set into panda data frames\n",
    "4. Formulate one or two ideas on how feature engineering would help the data set to establish additional value using exploratory data analysis\n",
    "5. Build one or more regression models to determine the scores for each team using the other columns as features\n",
    "6. Document your process and results\n",
    "7. Commit your notebook, source code, visualizations and other supporting files to the git repository in GitHub\n",
    "\n",
    "# Data Description\n",
    "## We are using Major League Baseball dataset from:\n",
    "- https://github.com/fivethirtyeight/data/tree/master/mlb-elo\n",
    "\n",
    "Column | Description\n",
    "-----| ---------\n",
    "date | Date of game\n",
    "season | Year of season\n",
    "neutral | Whether game was on a neutral site\n",
    "playoff | Whether game was in playoffs, and the playoff round if so\n",
    "team1 | Abbreviation for home team\n",
    "team2 | Abbreviation for away team\n",
    "elo1_pre | Home team's Elo rating before the game\n",
    "elo2_pre | Away team's Elo rating before the game\n",
    "elo_prob1 | Home team's probability of winning according to Elo ratings\n",
    "elo_prob2 | Away team's probability of winning according to Elo ratings\n",
    "elo1_post | Home team's Elo rating after the game\n",
    "elo2_post | Away team's Elo rating after the game\n",
    "rating1_pre | Home team's rating before the game\n",
    "rating2_pre | Away team's rating before the game\n",
    "pitcher1 | Name of home starting pitcher\n",
    "pitcher2 | Name of away starting pitcher\n",
    "pitcher1_rgs | Home starting pitcher's rolling game score before the game\n",
    "pitcher2_rgs | Away starting pitcher's rolling game score before the game\n",
    "pitcher1_adj | Home starting pitcher's adjustment to their team's rating\n",
    "pitcher2_adj | Away starting pitcher's adjustment to their team's rating\n",
    "rating_prob1 | Home team's probability of winning according to team ratings and starting pitchers\n",
    "rating_prob2 | Away team's probability of winning according to team ratings and starting pitchers\n",
    "rating1_post | Home team's rating after the game\n",
    "rating2_post | Away team's rating after the game\n",
    "score1 | Home team's score\n",
    "score2 | Away team's score"
   ]
  },
  {
   "cell_type": "markdown",
   "metadata": {},
   "source": [
    "## What we want to do?\n",
    "- Build one or more regression models to determine the scores for each team using the other columns as features\n",
    "\n",
    "\n",
    "## Step 1: Prepare Environment and import Data\n",
    "- Let's import pandas, numpy and pyplot libraries"
   ]
  },
  {
   "cell_type": "code",
   "execution_count": 280,
   "metadata": {},
   "outputs": [],
   "source": [
    "import pandas as pd\n",
    "import numpy as np\n",
    "import matplotlib.pyplot as plt"
   ]
  },
  {
   "cell_type": "markdown",
   "metadata": {},
   "source": [
    "- Let's import data and display top three samples"
   ]
  },
  {
   "cell_type": "code",
   "execution_count": 221,
   "metadata": {},
   "outputs": [
    {
     "data": {
      "text/html": [
       "<div>\n",
       "<style scoped>\n",
       "    .dataframe tbody tr th:only-of-type {\n",
       "        vertical-align: middle;\n",
       "    }\n",
       "\n",
       "    .dataframe tbody tr th {\n",
       "        vertical-align: top;\n",
       "    }\n",
       "\n",
       "    .dataframe thead th {\n",
       "        text-align: right;\n",
       "    }\n",
       "</style>\n",
       "<table border=\"1\" class=\"dataframe\">\n",
       "  <thead>\n",
       "    <tr style=\"text-align: right;\">\n",
       "      <th></th>\n",
       "      <th>date</th>\n",
       "      <th>season</th>\n",
       "      <th>neutral</th>\n",
       "      <th>playoff</th>\n",
       "      <th>team1</th>\n",
       "      <th>team2</th>\n",
       "      <th>elo1_pre</th>\n",
       "      <th>elo2_pre</th>\n",
       "      <th>elo_prob1</th>\n",
       "      <th>elo_prob2</th>\n",
       "      <th>...</th>\n",
       "      <th>pitcher1_rgs</th>\n",
       "      <th>pitcher2_rgs</th>\n",
       "      <th>pitcher1_adj</th>\n",
       "      <th>pitcher2_adj</th>\n",
       "      <th>rating_prob1</th>\n",
       "      <th>rating_prob2</th>\n",
       "      <th>rating1_post</th>\n",
       "      <th>rating2_post</th>\n",
       "      <th>score1</th>\n",
       "      <th>score2</th>\n",
       "    </tr>\n",
       "  </thead>\n",
       "  <tbody>\n",
       "    <tr>\n",
       "      <th>0</th>\n",
       "      <td>2020-10-10</td>\n",
       "      <td>2020</td>\n",
       "      <td>1</td>\n",
       "      <td>d</td>\n",
       "      <td>LAD</td>\n",
       "      <td>SDP</td>\n",
       "      <td>1598.290926</td>\n",
       "      <td>1525.832831</td>\n",
       "      <td>0.635558</td>\n",
       "      <td>0.364442</td>\n",
       "      <td>...</td>\n",
       "      <td>NaN</td>\n",
       "      <td>NaN</td>\n",
       "      <td>NaN</td>\n",
       "      <td>NaN</td>\n",
       "      <td>0.620261</td>\n",
       "      <td>0.379739</td>\n",
       "      <td>NaN</td>\n",
       "      <td>NaN</td>\n",
       "      <td>NaN</td>\n",
       "      <td>NaN</td>\n",
       "    </tr>\n",
       "    <tr>\n",
       "      <th>1</th>\n",
       "      <td>2020-10-10</td>\n",
       "      <td>2020</td>\n",
       "      <td>1</td>\n",
       "      <td>d</td>\n",
       "      <td>ATL</td>\n",
       "      <td>FLA</td>\n",
       "      <td>1543.508397</td>\n",
       "      <td>1482.006574</td>\n",
       "      <td>0.615867</td>\n",
       "      <td>0.384133</td>\n",
       "      <td>...</td>\n",
       "      <td>NaN</td>\n",
       "      <td>NaN</td>\n",
       "      <td>NaN</td>\n",
       "      <td>NaN</td>\n",
       "      <td>0.608742</td>\n",
       "      <td>0.391258</td>\n",
       "      <td>NaN</td>\n",
       "      <td>NaN</td>\n",
       "      <td>NaN</td>\n",
       "      <td>NaN</td>\n",
       "    </tr>\n",
       "    <tr>\n",
       "      <th>2</th>\n",
       "      <td>2020-10-09</td>\n",
       "      <td>2020</td>\n",
       "      <td>1</td>\n",
       "      <td>d</td>\n",
       "      <td>SDP</td>\n",
       "      <td>LAD</td>\n",
       "      <td>1525.832831</td>\n",
       "      <td>1598.290926</td>\n",
       "      <td>0.364442</td>\n",
       "      <td>0.635558</td>\n",
       "      <td>...</td>\n",
       "      <td>NaN</td>\n",
       "      <td>NaN</td>\n",
       "      <td>NaN</td>\n",
       "      <td>NaN</td>\n",
       "      <td>0.379739</td>\n",
       "      <td>0.620261</td>\n",
       "      <td>NaN</td>\n",
       "      <td>NaN</td>\n",
       "      <td>NaN</td>\n",
       "      <td>NaN</td>\n",
       "    </tr>\n",
       "  </tbody>\n",
       "</table>\n",
       "<p>3 rows × 26 columns</p>\n",
       "</div>"
      ],
      "text/plain": [
       "         date  season  neutral playoff team1 team2     elo1_pre     elo2_pre  \\\n",
       "0  2020-10-10    2020        1       d   LAD   SDP  1598.290926  1525.832831   \n",
       "1  2020-10-10    2020        1       d   ATL   FLA  1543.508397  1482.006574   \n",
       "2  2020-10-09    2020        1       d   SDP   LAD  1525.832831  1598.290926   \n",
       "\n",
       "   elo_prob1  elo_prob2  ...  pitcher1_rgs  pitcher2_rgs  pitcher1_adj  \\\n",
       "0   0.635558   0.364442  ...           NaN           NaN           NaN   \n",
       "1   0.615867   0.384133  ...           NaN           NaN           NaN   \n",
       "2   0.364442   0.635558  ...           NaN           NaN           NaN   \n",
       "\n",
       "   pitcher2_adj rating_prob1 rating_prob2  rating1_post  rating2_post  score1  \\\n",
       "0           NaN     0.620261     0.379739           NaN           NaN     NaN   \n",
       "1           NaN     0.608742     0.391258           NaN           NaN     NaN   \n",
       "2           NaN     0.379739     0.620261           NaN           NaN     NaN   \n",
       "\n",
       "   score2  \n",
       "0     NaN  \n",
       "1     NaN  \n",
       "2     NaN  \n",
       "\n",
       "[3 rows x 26 columns]"
      ]
     },
     "execution_count": 221,
     "metadata": {},
     "output_type": "execute_result"
    }
   ],
   "source": [
    "mlbdata= pd.read_csv(\"../data/mlb_elo.csv\")\n",
    "mlbdata.head(3)"
   ]
  },
  {
   "cell_type": "markdown",
   "metadata": {},
   "source": [
    "## Step 2: Data Analysis and Feature Engineering\n",
    "- Lets check how many samples we have"
   ]
  },
  {
   "cell_type": "code",
   "execution_count": 222,
   "metadata": {},
   "outputs": [
    {
     "data": {
      "text/plain": [
       "(220946, 26)"
      ]
     },
     "execution_count": 222,
     "metadata": {},
     "output_type": "execute_result"
    }
   ],
   "source": [
    "mlbdata.shape\n",
    "# mlbdata.dropna().pitcher1.values[:20]"
   ]
  },
  {
   "cell_type": "markdown",
   "metadata": {},
   "source": [
    "- We have almost 220 thousand samples and 26 features\n",
    "- Let's check for missing data"
   ]
  },
  {
   "cell_type": "code",
   "execution_count": 223,
   "metadata": {},
   "outputs": [
    {
     "name": "stdout",
     "output_type": "stream",
     "text": [
      "::::::::before:::::::::::\n",
      "date                 0\n",
      "season               0\n",
      "neutral              0\n",
      "playoff         219291\n",
      "team1                0\n",
      "team2                0\n",
      "elo1_pre             0\n",
      "elo2_pre             0\n",
      "elo_prob1            0\n",
      "elo_prob2            0\n",
      "elo1_post           20\n",
      "elo2_post           20\n",
      "rating1_pre          0\n",
      "rating2_pre          0\n",
      "pitcher1            50\n",
      "pitcher2            53\n",
      "pitcher1_rgs     33753\n",
      "pitcher2_rgs     33756\n",
      "pitcher1_adj     34434\n",
      "pitcher2_adj     34436\n",
      "rating_prob1         0\n",
      "rating_prob2         0\n",
      "rating1_post        20\n",
      "rating2_post        20\n",
      "score1              20\n",
      "score2              20\n",
      "dtype: int64\n"
     ]
    }
   ],
   "source": [
    "print(\"::::::::before:::::::::::\")\n",
    "print(mlbdata.isnull().sum())"
   ]
  },
  {
   "cell_type": "markdown",
   "metadata": {},
   "source": [
    "- That is too much of missing values under `playoff` feature, so let's drop that\n",
    "- Also we would not need `date` so let's deop that too.\n",
    "- `pitcher1` and `pitcher2` are names of pitchers in that particular game from both teams as we have their rgs(rolling game score) we can drop these features too\n",
    "- Let's do all of that now"
   ]
  },
  {
   "cell_type": "code",
   "execution_count": 224,
   "metadata": {},
   "outputs": [],
   "source": [
    "mlbdata.drop(labels=['date','playoff','pitcher1','pitcher2'], axis=1, inplace=True)"
   ]
  },
  {
   "cell_type": "markdown",
   "metadata": {},
   "source": [
    "- Now, we can drop all the samples with incomplete data"
   ]
  },
  {
   "cell_type": "code",
   "execution_count": 225,
   "metadata": {},
   "outputs": [
    {
     "name": "stdout",
     "output_type": "stream",
     "text": [
      "::::::::after::::::::::::\n",
      "season          0\n",
      "neutral         0\n",
      "team1           0\n",
      "team2           0\n",
      "elo1_pre        0\n",
      "elo2_pre        0\n",
      "elo_prob1       0\n",
      "elo_prob2       0\n",
      "elo1_post       0\n",
      "elo2_post       0\n",
      "rating1_pre     0\n",
      "rating2_pre     0\n",
      "pitcher1_rgs    0\n",
      "pitcher2_rgs    0\n",
      "pitcher1_adj    0\n",
      "pitcher2_adj    0\n",
      "rating_prob1    0\n",
      "rating_prob2    0\n",
      "rating1_post    0\n",
      "rating2_post    0\n",
      "score1          0\n",
      "score2          0\n",
      "dtype: int64\n"
     ]
    }
   ],
   "source": [
    "mlbdata= mlbdata.dropna()\n",
    "print(\"::::::::after::::::::::::\")\n",
    "print(mlbdata.isnull().sum())"
   ]
  },
  {
   "cell_type": "markdown",
   "metadata": {},
   "source": [
    "- Let's look at few samples, size and column descriptions to find out what else we can do"
   ]
  },
  {
   "cell_type": "code",
   "execution_count": 226,
   "metadata": {
    "scrolled": true
   },
   "outputs": [
    {
     "data": {
      "text/html": [
       "<div>\n",
       "<style scoped>\n",
       "    .dataframe tbody tr th:only-of-type {\n",
       "        vertical-align: middle;\n",
       "    }\n",
       "\n",
       "    .dataframe tbody tr th {\n",
       "        vertical-align: top;\n",
       "    }\n",
       "\n",
       "    .dataframe thead th {\n",
       "        text-align: right;\n",
       "    }\n",
       "</style>\n",
       "<table border=\"1\" class=\"dataframe\">\n",
       "  <thead>\n",
       "    <tr style=\"text-align: right;\">\n",
       "      <th></th>\n",
       "      <th>season</th>\n",
       "      <th>neutral</th>\n",
       "      <th>team1</th>\n",
       "      <th>team2</th>\n",
       "      <th>elo1_pre</th>\n",
       "      <th>elo2_pre</th>\n",
       "      <th>elo_prob1</th>\n",
       "      <th>elo_prob2</th>\n",
       "      <th>elo1_post</th>\n",
       "      <th>elo2_post</th>\n",
       "      <th>...</th>\n",
       "      <th>pitcher1_rgs</th>\n",
       "      <th>pitcher2_rgs</th>\n",
       "      <th>pitcher1_adj</th>\n",
       "      <th>pitcher2_adj</th>\n",
       "      <th>rating_prob1</th>\n",
       "      <th>rating_prob2</th>\n",
       "      <th>rating1_post</th>\n",
       "      <th>rating2_post</th>\n",
       "      <th>score1</th>\n",
       "      <th>score2</th>\n",
       "    </tr>\n",
       "  </thead>\n",
       "  <tbody>\n",
       "    <tr>\n",
       "      <th>20</th>\n",
       "      <td>2020</td>\n",
       "      <td>0</td>\n",
       "      <td>SDP</td>\n",
       "      <td>STL</td>\n",
       "      <td>1522.312734</td>\n",
       "      <td>1520.100045</td>\n",
       "      <td>0.550128</td>\n",
       "      <td>0.449872</td>\n",
       "      <td>1525.832831</td>\n",
       "      <td>1516.579948</td>\n",
       "      <td>...</td>\n",
       "      <td>47.400000</td>\n",
       "      <td>57.310588</td>\n",
       "      <td>-17.746023</td>\n",
       "      <td>29.444071</td>\n",
       "      <td>0.461857</td>\n",
       "      <td>0.538143</td>\n",
       "      <td>1534.038131</td>\n",
       "      <td>1509.745224</td>\n",
       "      <td>4.0</td>\n",
       "      <td>0.0</td>\n",
       "    </tr>\n",
       "    <tr>\n",
       "      <th>21</th>\n",
       "      <td>2020</td>\n",
       "      <td>0</td>\n",
       "      <td>CHC</td>\n",
       "      <td>FLA</td>\n",
       "      <td>1517.011886</td>\n",
       "      <td>1478.403936</td>\n",
       "      <td>0.617874</td>\n",
       "      <td>0.382126</td>\n",
       "      <td>1513.409248</td>\n",
       "      <td>1482.006574</td>\n",
       "      <td>...</td>\n",
       "      <td>60.622663</td>\n",
       "      <td>50.317526</td>\n",
       "      <td>40.641459</td>\n",
       "      <td>5.064633</td>\n",
       "      <td>0.673112</td>\n",
       "      <td>0.326888</td>\n",
       "      <td>1517.959644</td>\n",
       "      <td>1475.108982</td>\n",
       "      <td>0.0</td>\n",
       "      <td>2.0</td>\n",
       "    </tr>\n",
       "    <tr>\n",
       "      <th>22</th>\n",
       "      <td>2020</td>\n",
       "      <td>0</td>\n",
       "      <td>LAD</td>\n",
       "      <td>MIL</td>\n",
       "      <td>1596.678175</td>\n",
       "      <td>1502.693145</td>\n",
       "      <td>0.712092</td>\n",
       "      <td>0.287908</td>\n",
       "      <td>1598.290926</td>\n",
       "      <td>1501.080394</td>\n",
       "      <td>...</td>\n",
       "      <td>56.674581</td>\n",
       "      <td>57.809816</td>\n",
       "      <td>21.716845</td>\n",
       "      <td>33.175306</td>\n",
       "      <td>0.673916</td>\n",
       "      <td>0.326084</td>\n",
       "      <td>1606.065971</td>\n",
       "      <td>1506.703444</td>\n",
       "      <td>3.0</td>\n",
       "      <td>0.0</td>\n",
       "    </tr>\n",
       "    <tr>\n",
       "      <th>23</th>\n",
       "      <td>2020</td>\n",
       "      <td>0</td>\n",
       "      <td>SDP</td>\n",
       "      <td>STL</td>\n",
       "      <td>1519.722828</td>\n",
       "      <td>1522.689951</td>\n",
       "      <td>0.540271</td>\n",
       "      <td>0.459729</td>\n",
       "      <td>1522.312734</td>\n",
       "      <td>1520.100045</td>\n",
       "      <td>...</td>\n",
       "      <td>52.966274</td>\n",
       "      <td>52.749116</td>\n",
       "      <td>7.282398</td>\n",
       "      <td>7.517466</td>\n",
       "      <td>0.544395</td>\n",
       "      <td>0.455605</td>\n",
       "      <td>1530.728125</td>\n",
       "      <td>1513.055229</td>\n",
       "      <td>11.0</td>\n",
       "      <td>9.0</td>\n",
       "    </tr>\n",
       "    <tr>\n",
       "      <th>24</th>\n",
       "      <td>2020</td>\n",
       "      <td>0</td>\n",
       "      <td>OAK</td>\n",
       "      <td>CHW</td>\n",
       "      <td>1545.674260</td>\n",
       "      <td>1507.785767</td>\n",
       "      <td>0.616569</td>\n",
       "      <td>0.383431</td>\n",
       "      <td>1547.618027</td>\n",
       "      <td>1505.842000</td>\n",
       "      <td>...</td>\n",
       "      <td>50.478180</td>\n",
       "      <td>49.661565</td>\n",
       "      <td>-1.921507</td>\n",
       "      <td>-6.888932</td>\n",
       "      <td>0.558056</td>\n",
       "      <td>0.441944</td>\n",
       "      <td>1532.981409</td>\n",
       "      <td>1513.624593</td>\n",
       "      <td>6.0</td>\n",
       "      <td>4.0</td>\n",
       "    </tr>\n",
       "  </tbody>\n",
       "</table>\n",
       "<p>5 rows × 22 columns</p>\n",
       "</div>"
      ],
      "text/plain": [
       "    season  neutral team1 team2     elo1_pre     elo2_pre  elo_prob1  \\\n",
       "20    2020        0   SDP   STL  1522.312734  1520.100045   0.550128   \n",
       "21    2020        0   CHC   FLA  1517.011886  1478.403936   0.617874   \n",
       "22    2020        0   LAD   MIL  1596.678175  1502.693145   0.712092   \n",
       "23    2020        0   SDP   STL  1519.722828  1522.689951   0.540271   \n",
       "24    2020        0   OAK   CHW  1545.674260  1507.785767   0.616569   \n",
       "\n",
       "    elo_prob2    elo1_post    elo2_post  ...  pitcher1_rgs  pitcher2_rgs  \\\n",
       "20   0.449872  1525.832831  1516.579948  ...     47.400000     57.310588   \n",
       "21   0.382126  1513.409248  1482.006574  ...     60.622663     50.317526   \n",
       "22   0.287908  1598.290926  1501.080394  ...     56.674581     57.809816   \n",
       "23   0.459729  1522.312734  1520.100045  ...     52.966274     52.749116   \n",
       "24   0.383431  1547.618027  1505.842000  ...     50.478180     49.661565   \n",
       "\n",
       "    pitcher1_adj  pitcher2_adj  rating_prob1  rating_prob2  rating1_post  \\\n",
       "20    -17.746023     29.444071      0.461857      0.538143   1534.038131   \n",
       "21     40.641459      5.064633      0.673112      0.326888   1517.959644   \n",
       "22     21.716845     33.175306      0.673916      0.326084   1606.065971   \n",
       "23      7.282398      7.517466      0.544395      0.455605   1530.728125   \n",
       "24     -1.921507     -6.888932      0.558056      0.441944   1532.981409   \n",
       "\n",
       "    rating2_post  score1  score2  \n",
       "20   1509.745224     4.0     0.0  \n",
       "21   1475.108982     0.0     2.0  \n",
       "22   1506.703444     3.0     0.0  \n",
       "23   1513.055229    11.0     9.0  \n",
       "24   1513.624593     6.0     4.0  \n",
       "\n",
       "[5 rows x 22 columns]"
      ]
     },
     "execution_count": 226,
     "metadata": {},
     "output_type": "execute_result"
    }
   ],
   "source": [
    "mlbdata.head()"
   ]
  },
  {
   "cell_type": "code",
   "execution_count": 227,
   "metadata": {},
   "outputs": [
    {
     "data": {
      "text/plain": [
       "(186502, 22)"
      ]
     },
     "execution_count": 227,
     "metadata": {},
     "output_type": "execute_result"
    }
   ],
   "source": [
    "mlbdata.shape"
   ]
  },
  {
   "cell_type": "code",
   "execution_count": 228,
   "metadata": {
    "scrolled": false
   },
   "outputs": [
    {
     "name": "stdout",
     "output_type": "stream",
     "text": [
      "<class 'pandas.core.frame.DataFrame'>\n",
      "Int64Index: 186502 entries, 20 to 186530\n",
      "Data columns (total 22 columns):\n",
      " #   Column        Non-Null Count   Dtype  \n",
      "---  ------        --------------   -----  \n",
      " 0   season        186502 non-null  int64  \n",
      " 1   neutral       186502 non-null  int64  \n",
      " 2   team1         186502 non-null  object \n",
      " 3   team2         186502 non-null  object \n",
      " 4   elo1_pre      186502 non-null  float64\n",
      " 5   elo2_pre      186502 non-null  float64\n",
      " 6   elo_prob1     186502 non-null  float64\n",
      " 7   elo_prob2     186502 non-null  float64\n",
      " 8   elo1_post     186502 non-null  float64\n",
      " 9   elo2_post     186502 non-null  float64\n",
      " 10  rating1_pre   186502 non-null  float64\n",
      " 11  rating2_pre   186502 non-null  float64\n",
      " 12  pitcher1_rgs  186502 non-null  float64\n",
      " 13  pitcher2_rgs  186502 non-null  float64\n",
      " 14  pitcher1_adj  186502 non-null  float64\n",
      " 15  pitcher2_adj  186502 non-null  float64\n",
      " 16  rating_prob1  186502 non-null  float64\n",
      " 17  rating_prob2  186502 non-null  float64\n",
      " 18  rating1_post  186502 non-null  float64\n",
      " 19  rating2_post  186502 non-null  float64\n",
      " 20  score1        186502 non-null  float64\n",
      " 21  score2        186502 non-null  float64\n",
      "dtypes: float64(18), int64(2), object(2)\n",
      "memory usage: 32.7+ MB\n"
     ]
    }
   ],
   "source": [
    "mlbdata.info()"
   ]
  },
  {
   "cell_type": "markdown",
   "metadata": {},
   "source": [
    "- Ok now, let us check all the available teams"
   ]
  },
  {
   "cell_type": "code",
   "execution_count": 229,
   "metadata": {},
   "outputs": [
    {
     "name": "stdout",
     "output_type": "stream",
     "text": [
      "['ANA', 'ARI', 'ATL', 'BAL', 'BOS', 'CHC', 'CHW', 'CIN', 'CLE', 'COL', 'DET', 'FLA', 'HOU', 'KCR', 'LAD', 'MIL', 'MIN', 'NYM', 'NYY', 'OAK', 'PHI', 'PIT', 'SDP', 'SEA', 'SFG', 'STL', 'TBD', 'TEX', 'TOR', 'WSN']\n"
     ]
    }
   ],
   "source": [
    "print(sorted(set(mlbdata.team1.values)))"
   ]
  },
  {
   "cell_type": "code",
   "execution_count": 230,
   "metadata": {},
   "outputs": [
    {
     "name": "stdout",
     "output_type": "stream",
     "text": [
      "['ANA', 'ARI', 'ATL', 'BAL', 'BOS', 'CHC', 'CHW', 'CIN', 'CLE', 'COL', 'DET', 'FLA', 'HOU', 'KCR', 'LAD', 'MIL', 'MIN', 'NYM', 'NYY', 'OAK', 'PHI', 'PIT', 'SDP', 'SEA', 'SFG', 'STL', 'TBD', 'TEX', 'TOR', 'WSN']\n"
     ]
    }
   ],
   "source": [
    "print(sorted(set(mlbdata.team2.values)))"
   ]
  },
  {
   "cell_type": "markdown",
   "metadata": {},
   "source": [
    "- There is something interesting here, if we look carefully `TBD` is also termed as team, where as TBD stands for 'To be declared'. This might be some faulty samples as TBD could potentially be any possible team and might affect our prediction model so better to drop all those samples."
   ]
  },
  {
   "cell_type": "code",
   "execution_count": 231,
   "metadata": {},
   "outputs": [
    {
     "name": "stdout",
     "output_type": "stream",
     "text": [
      "#############before#########\n",
      "samples with 'tbd' as value in team1: 1829\n",
      "samples with 'tbd' as value in team2: 1831\n",
      "#############after##########\n",
      "samples with 'tbd' as value in team1: 0\n",
      "samples with 'tbd' as value in team2: 0\n"
     ]
    }
   ],
   "source": [
    "print(\"#############before#########\")\n",
    "print(\"samples with 'tbd' as value in team1: \"+str(mlbdata.team1.values.tolist().count('TBD')))\n",
    "print(\"samples with 'tbd' as value in team2: \"+str(mlbdata.team2.values.tolist().count('TBD')))\n",
    "mlbdata= mlbdata[mlbdata.team1 != 'TBD']\n",
    "mlbdata= mlbdata[mlbdata.team2 != 'TBD']\n",
    "print(\"#############after##########\")\n",
    "print(\"samples with 'tbd' as value in team1: \"+str(mlbdata.team1.values.tolist().count('TBD')))\n",
    "print(\"samples with 'tbd' as value in team2: \"+str(mlbdata.team2.values.tolist().count('TBD')))"
   ]
  },
  {
   "cell_type": "markdown",
   "metadata": {},
   "source": [
    "- From column description we understood that except for `team1` ,`team2` and `season` rest all numericals.\n",
    "- Let's now encode these three features using `LabelEncoder`."
   ]
  },
  {
   "cell_type": "code",
   "execution_count": 232,
   "metadata": {
    "scrolled": true
   },
   "outputs": [
    {
     "data": {
      "text/html": [
       "<div>\n",
       "<style scoped>\n",
       "    .dataframe tbody tr th:only-of-type {\n",
       "        vertical-align: middle;\n",
       "    }\n",
       "\n",
       "    .dataframe tbody tr th {\n",
       "        vertical-align: top;\n",
       "    }\n",
       "\n",
       "    .dataframe thead th {\n",
       "        text-align: right;\n",
       "    }\n",
       "</style>\n",
       "<table border=\"1\" class=\"dataframe\">\n",
       "  <thead>\n",
       "    <tr style=\"text-align: right;\">\n",
       "      <th></th>\n",
       "      <th>season</th>\n",
       "      <th>neutral</th>\n",
       "      <th>team1</th>\n",
       "      <th>team2</th>\n",
       "      <th>elo1_pre</th>\n",
       "      <th>elo2_pre</th>\n",
       "      <th>elo_prob1</th>\n",
       "      <th>elo_prob2</th>\n",
       "      <th>elo1_post</th>\n",
       "      <th>elo2_post</th>\n",
       "      <th>...</th>\n",
       "      <th>pitcher1_rgs</th>\n",
       "      <th>pitcher2_rgs</th>\n",
       "      <th>pitcher1_adj</th>\n",
       "      <th>pitcher2_adj</th>\n",
       "      <th>rating_prob1</th>\n",
       "      <th>rating_prob2</th>\n",
       "      <th>rating1_post</th>\n",
       "      <th>rating2_post</th>\n",
       "      <th>score1</th>\n",
       "      <th>score2</th>\n",
       "    </tr>\n",
       "  </thead>\n",
       "  <tbody>\n",
       "    <tr>\n",
       "      <th>20</th>\n",
       "      <td>2020</td>\n",
       "      <td>0</td>\n",
       "      <td>22</td>\n",
       "      <td>25</td>\n",
       "      <td>1522.312734</td>\n",
       "      <td>1520.100045</td>\n",
       "      <td>0.550128</td>\n",
       "      <td>0.449872</td>\n",
       "      <td>1525.832831</td>\n",
       "      <td>1516.579948</td>\n",
       "      <td>...</td>\n",
       "      <td>47.400000</td>\n",
       "      <td>57.310588</td>\n",
       "      <td>-17.746023</td>\n",
       "      <td>29.444071</td>\n",
       "      <td>0.461857</td>\n",
       "      <td>0.538143</td>\n",
       "      <td>1534.038131</td>\n",
       "      <td>1509.745224</td>\n",
       "      <td>4.0</td>\n",
       "      <td>0.0</td>\n",
       "    </tr>\n",
       "    <tr>\n",
       "      <th>21</th>\n",
       "      <td>2020</td>\n",
       "      <td>0</td>\n",
       "      <td>5</td>\n",
       "      <td>11</td>\n",
       "      <td>1517.011886</td>\n",
       "      <td>1478.403936</td>\n",
       "      <td>0.617874</td>\n",
       "      <td>0.382126</td>\n",
       "      <td>1513.409248</td>\n",
       "      <td>1482.006574</td>\n",
       "      <td>...</td>\n",
       "      <td>60.622663</td>\n",
       "      <td>50.317526</td>\n",
       "      <td>40.641459</td>\n",
       "      <td>5.064633</td>\n",
       "      <td>0.673112</td>\n",
       "      <td>0.326888</td>\n",
       "      <td>1517.959644</td>\n",
       "      <td>1475.108982</td>\n",
       "      <td>0.0</td>\n",
       "      <td>2.0</td>\n",
       "    </tr>\n",
       "    <tr>\n",
       "      <th>22</th>\n",
       "      <td>2020</td>\n",
       "      <td>0</td>\n",
       "      <td>14</td>\n",
       "      <td>15</td>\n",
       "      <td>1596.678175</td>\n",
       "      <td>1502.693145</td>\n",
       "      <td>0.712092</td>\n",
       "      <td>0.287908</td>\n",
       "      <td>1598.290926</td>\n",
       "      <td>1501.080394</td>\n",
       "      <td>...</td>\n",
       "      <td>56.674581</td>\n",
       "      <td>57.809816</td>\n",
       "      <td>21.716845</td>\n",
       "      <td>33.175306</td>\n",
       "      <td>0.673916</td>\n",
       "      <td>0.326084</td>\n",
       "      <td>1606.065971</td>\n",
       "      <td>1506.703444</td>\n",
       "      <td>3.0</td>\n",
       "      <td>0.0</td>\n",
       "    </tr>\n",
       "    <tr>\n",
       "      <th>23</th>\n",
       "      <td>2020</td>\n",
       "      <td>0</td>\n",
       "      <td>22</td>\n",
       "      <td>25</td>\n",
       "      <td>1519.722828</td>\n",
       "      <td>1522.689951</td>\n",
       "      <td>0.540271</td>\n",
       "      <td>0.459729</td>\n",
       "      <td>1522.312734</td>\n",
       "      <td>1520.100045</td>\n",
       "      <td>...</td>\n",
       "      <td>52.966274</td>\n",
       "      <td>52.749116</td>\n",
       "      <td>7.282398</td>\n",
       "      <td>7.517466</td>\n",
       "      <td>0.544395</td>\n",
       "      <td>0.455605</td>\n",
       "      <td>1530.728125</td>\n",
       "      <td>1513.055229</td>\n",
       "      <td>11.0</td>\n",
       "      <td>9.0</td>\n",
       "    </tr>\n",
       "    <tr>\n",
       "      <th>24</th>\n",
       "      <td>2020</td>\n",
       "      <td>0</td>\n",
       "      <td>19</td>\n",
       "      <td>6</td>\n",
       "      <td>1545.674260</td>\n",
       "      <td>1507.785767</td>\n",
       "      <td>0.616569</td>\n",
       "      <td>0.383431</td>\n",
       "      <td>1547.618027</td>\n",
       "      <td>1505.842000</td>\n",
       "      <td>...</td>\n",
       "      <td>50.478180</td>\n",
       "      <td>49.661565</td>\n",
       "      <td>-1.921507</td>\n",
       "      <td>-6.888932</td>\n",
       "      <td>0.558056</td>\n",
       "      <td>0.441944</td>\n",
       "      <td>1532.981409</td>\n",
       "      <td>1513.624593</td>\n",
       "      <td>6.0</td>\n",
       "      <td>4.0</td>\n",
       "    </tr>\n",
       "  </tbody>\n",
       "</table>\n",
       "<p>5 rows × 22 columns</p>\n",
       "</div>"
      ],
      "text/plain": [
       "    season  neutral  team1  team2     elo1_pre     elo2_pre  elo_prob1  \\\n",
       "20    2020        0     22     25  1522.312734  1520.100045   0.550128   \n",
       "21    2020        0      5     11  1517.011886  1478.403936   0.617874   \n",
       "22    2020        0     14     15  1596.678175  1502.693145   0.712092   \n",
       "23    2020        0     22     25  1519.722828  1522.689951   0.540271   \n",
       "24    2020        0     19      6  1545.674260  1507.785767   0.616569   \n",
       "\n",
       "    elo_prob2    elo1_post    elo2_post  ...  pitcher1_rgs  pitcher2_rgs  \\\n",
       "20   0.449872  1525.832831  1516.579948  ...     47.400000     57.310588   \n",
       "21   0.382126  1513.409248  1482.006574  ...     60.622663     50.317526   \n",
       "22   0.287908  1598.290926  1501.080394  ...     56.674581     57.809816   \n",
       "23   0.459729  1522.312734  1520.100045  ...     52.966274     52.749116   \n",
       "24   0.383431  1547.618027  1505.842000  ...     50.478180     49.661565   \n",
       "\n",
       "    pitcher1_adj  pitcher2_adj  rating_prob1  rating_prob2  rating1_post  \\\n",
       "20    -17.746023     29.444071      0.461857      0.538143   1534.038131   \n",
       "21     40.641459      5.064633      0.673112      0.326888   1517.959644   \n",
       "22     21.716845     33.175306      0.673916      0.326084   1606.065971   \n",
       "23      7.282398      7.517466      0.544395      0.455605   1530.728125   \n",
       "24     -1.921507     -6.888932      0.558056      0.441944   1532.981409   \n",
       "\n",
       "    rating2_post  score1  score2  \n",
       "20   1509.745224     4.0     0.0  \n",
       "21   1475.108982     0.0     2.0  \n",
       "22   1506.703444     3.0     0.0  \n",
       "23   1513.055229    11.0     9.0  \n",
       "24   1513.624593     6.0     4.0  \n",
       "\n",
       "[5 rows x 22 columns]"
      ]
     },
     "execution_count": 232,
     "metadata": {},
     "output_type": "execute_result"
    }
   ],
   "source": [
    "from sklearn.preprocessing import LabelEncoder\n",
    "le = LabelEncoder()\n",
    "le.fit(sorted(set(mlbdata.team2.values)))\n",
    "mlbdata['team1']= le.transform(mlbdata['team1'])\n",
    "mlbdata['team2']= le.transform(mlbdata['team2'])\n",
    "mlbdata.head(5)"
   ]
  },
  {
   "cell_type": "code",
   "execution_count": 233,
   "metadata": {},
   "outputs": [
    {
     "data": {
      "text/html": [
       "<div>\n",
       "<style scoped>\n",
       "    .dataframe tbody tr th:only-of-type {\n",
       "        vertical-align: middle;\n",
       "    }\n",
       "\n",
       "    .dataframe tbody tr th {\n",
       "        vertical-align: top;\n",
       "    }\n",
       "\n",
       "    .dataframe thead th {\n",
       "        text-align: right;\n",
       "    }\n",
       "</style>\n",
       "<table border=\"1\" class=\"dataframe\">\n",
       "  <thead>\n",
       "    <tr style=\"text-align: right;\">\n",
       "      <th></th>\n",
       "      <th>season</th>\n",
       "      <th>neutral</th>\n",
       "      <th>team1</th>\n",
       "      <th>team2</th>\n",
       "      <th>elo1_pre</th>\n",
       "      <th>elo2_pre</th>\n",
       "      <th>elo_prob1</th>\n",
       "      <th>elo_prob2</th>\n",
       "      <th>elo1_post</th>\n",
       "      <th>elo2_post</th>\n",
       "      <th>...</th>\n",
       "      <th>pitcher1_rgs</th>\n",
       "      <th>pitcher2_rgs</th>\n",
       "      <th>pitcher1_adj</th>\n",
       "      <th>pitcher2_adj</th>\n",
       "      <th>rating_prob1</th>\n",
       "      <th>rating_prob2</th>\n",
       "      <th>rating1_post</th>\n",
       "      <th>rating2_post</th>\n",
       "      <th>score1</th>\n",
       "      <th>score2</th>\n",
       "    </tr>\n",
       "  </thead>\n",
       "  <tbody>\n",
       "    <tr>\n",
       "      <th>20</th>\n",
       "      <td>107</td>\n",
       "      <td>0</td>\n",
       "      <td>22</td>\n",
       "      <td>25</td>\n",
       "      <td>1522.312734</td>\n",
       "      <td>1520.100045</td>\n",
       "      <td>0.550128</td>\n",
       "      <td>0.449872</td>\n",
       "      <td>1525.832831</td>\n",
       "      <td>1516.579948</td>\n",
       "      <td>...</td>\n",
       "      <td>47.4</td>\n",
       "      <td>57.310588</td>\n",
       "      <td>-17.746023</td>\n",
       "      <td>29.444071</td>\n",
       "      <td>0.461857</td>\n",
       "      <td>0.538143</td>\n",
       "      <td>1534.038131</td>\n",
       "      <td>1509.745224</td>\n",
       "      <td>4.0</td>\n",
       "      <td>0.0</td>\n",
       "    </tr>\n",
       "  </tbody>\n",
       "</table>\n",
       "<p>1 rows × 22 columns</p>\n",
       "</div>"
      ],
      "text/plain": [
       "    season  neutral  team1  team2     elo1_pre     elo2_pre  elo_prob1  \\\n",
       "20     107        0     22     25  1522.312734  1520.100045   0.550128   \n",
       "\n",
       "    elo_prob2    elo1_post    elo2_post  ...  pitcher1_rgs  pitcher2_rgs  \\\n",
       "20   0.449872  1525.832831  1516.579948  ...          47.4     57.310588   \n",
       "\n",
       "    pitcher1_adj  pitcher2_adj  rating_prob1  rating_prob2  rating1_post  \\\n",
       "20    -17.746023     29.444071      0.461857      0.538143   1534.038131   \n",
       "\n",
       "    rating2_post  score1  score2  \n",
       "20   1509.745224     4.0     0.0  \n",
       "\n",
       "[1 rows x 22 columns]"
      ]
     },
     "execution_count": 233,
     "metadata": {},
     "output_type": "execute_result"
    }
   ],
   "source": [
    "mlbdata['season']= le.fit_transform(mlbdata['season'])\n",
    "mlbdata.head(1)"
   ]
  },
  {
   "cell_type": "markdown",
   "metadata": {},
   "source": [
    "- Let's confirm if we have all features as numerical values"
   ]
  },
  {
   "cell_type": "code",
   "execution_count": 234,
   "metadata": {},
   "outputs": [
    {
     "name": "stdout",
     "output_type": "stream",
     "text": [
      "<class 'pandas.core.frame.DataFrame'>\n",
      "Int64Index: 182842 entries, 20 to 186530\n",
      "Data columns (total 22 columns):\n",
      " #   Column        Non-Null Count   Dtype  \n",
      "---  ------        --------------   -----  \n",
      " 0   season        182842 non-null  int64  \n",
      " 1   neutral       182842 non-null  int64  \n",
      " 2   team1         182842 non-null  int32  \n",
      " 3   team2         182842 non-null  int32  \n",
      " 4   elo1_pre      182842 non-null  float64\n",
      " 5   elo2_pre      182842 non-null  float64\n",
      " 6   elo_prob1     182842 non-null  float64\n",
      " 7   elo_prob2     182842 non-null  float64\n",
      " 8   elo1_post     182842 non-null  float64\n",
      " 9   elo2_post     182842 non-null  float64\n",
      " 10  rating1_pre   182842 non-null  float64\n",
      " 11  rating2_pre   182842 non-null  float64\n",
      " 12  pitcher1_rgs  182842 non-null  float64\n",
      " 13  pitcher2_rgs  182842 non-null  float64\n",
      " 14  pitcher1_adj  182842 non-null  float64\n",
      " 15  pitcher2_adj  182842 non-null  float64\n",
      " 16  rating_prob1  182842 non-null  float64\n",
      " 17  rating_prob2  182842 non-null  float64\n",
      " 18  rating1_post  182842 non-null  float64\n",
      " 19  rating2_post  182842 non-null  float64\n",
      " 20  score1        182842 non-null  float64\n",
      " 21  score2        182842 non-null  float64\n",
      "dtypes: float64(18), int32(2), int64(2)\n",
      "memory usage: 30.7 MB\n"
     ]
    }
   ],
   "source": [
    "mlbdata.info()"
   ]
  },
  {
   "cell_type": "markdown",
   "metadata": {},
   "source": [
    "### Let's prepare transformed data to train regression models\n",
    "- Let's make labels with features - `score1` and `score2`"
   ]
  },
  {
   "cell_type": "code",
   "execution_count": 235,
   "metadata": {},
   "outputs": [],
   "source": [
    "Y = np.array ([mlbdata['score1'],mlbdata ['score2']]).T"
   ]
  },
  {
   "cell_type": "code",
   "execution_count": 236,
   "metadata": {},
   "outputs": [
    {
     "data": {
      "text/plain": [
       "(182842, 2)"
      ]
     },
     "execution_count": 236,
     "metadata": {},
     "output_type": "execute_result"
    }
   ],
   "source": [
    "Y.shape"
   ]
  },
  {
   "cell_type": "markdown",
   "metadata": {},
   "source": [
    "- Let's use all other features for Training regression models"
   ]
  },
  {
   "cell_type": "code",
   "execution_count": 237,
   "metadata": {},
   "outputs": [],
   "source": [
    "X= mlbdata.drop(['score1','score2'], axis= 1)"
   ]
  },
  {
   "cell_type": "code",
   "execution_count": 238,
   "metadata": {},
   "outputs": [
    {
     "data": {
      "text/plain": [
       "(182842, 20)"
      ]
     },
     "execution_count": 238,
     "metadata": {},
     "output_type": "execute_result"
    }
   ],
   "source": [
    "X.shape"
   ]
  },
  {
   "cell_type": "markdown",
   "metadata": {},
   "source": [
    "# Step3: Score Predictor- Regression Models\n",
    "- Let's split data samples into training and validation parts to evaluate our models.\n",
    "- Lets use 20% of data for validation and rest all for training"
   ]
  },
  {
   "cell_type": "code",
   "execution_count": 240,
   "metadata": {},
   "outputs": [],
   "source": [
    "from sklearn.model_selection import train_test_split\n",
    "xtr, xval, ytr, yval = train_test_split(X,Y, test_size=0.20, random_state=5)"
   ]
  },
  {
   "cell_type": "code",
   "execution_count": 265,
   "metadata": {},
   "outputs": [
    {
     "data": {
      "text/plain": [
       "((146273, 20), (146273, 2), (36569, 20), (36569, 2))"
      ]
     },
     "execution_count": 265,
     "metadata": {},
     "output_type": "execute_result"
    }
   ],
   "source": [
    "xtr.shape, ytr.shape, xval.shape, yval.shape"
   ]
  },
  {
   "cell_type": "markdown",
   "metadata": {},
   "source": [
    "## Evaluation Metrics\n",
    "- In statistics, the mean squared error (MSE) or mean squared deviation (MSD) of an estimator (of a procedure for estimating an unobserved quantity) measures the average of the squares of the errors—that is, the average squared difference between the estimated values and the actual value.\n",
    "\n",
    "- In statistics, mean absolute error (MAE) is a measure of errors between paired observations expressing the same phenomenon. Examples of Y versus X include comparisons of predicted versus observed, subsequent time versus initial time, and one technique of measurement versus an alternative technique of measurement.\n",
    "\n",
    "- The coefficient R^2 is defined as (1 - u/v), where u is the residual sum of squares ((y_true - y_pred) ** 2).sum() and v is the total sum of squares ((y_true - y_true.mean()) ** 2).sum(). The best possible score is 1.0 and it can be negative (because the model can be arbitrarily worse). A constant model that always predicts the expected value of y, disregarding the input features, would get a R^2 score of 0.0."
   ]
  },
  {
   "cell_type": "code",
   "execution_count": 262,
   "metadata": {},
   "outputs": [],
   "source": [
    "from sklearn.metrics import mean_absolute_error\n",
    "from sklearn.metrics import mean_squared_error"
   ]
  },
  {
   "cell_type": "markdown",
   "metadata": {},
   "source": [
    "## Linear Regression"
   ]
  },
  {
   "cell_type": "code",
   "execution_count": 263,
   "metadata": {},
   "outputs": [
    {
     "data": {
      "text/plain": [
       "LinearRegression(copy_X=True, fit_intercept=True, n_jobs=None, normalize=False)"
      ]
     },
     "execution_count": 263,
     "metadata": {},
     "output_type": "execute_result"
    }
   ],
   "source": [
    "#Linear regression\n",
    "from sklearn.linear_model import LinearRegression\n",
    "lr = LinearRegression()\n",
    "#training process\n",
    "lr.fit (xtr, ytr)"
   ]
  },
  {
   "cell_type": "markdown",
   "metadata": {},
   "source": [
    "## Evaluating Linear Regression Model"
   ]
  },
  {
   "cell_type": "code",
   "execution_count": 264,
   "metadata": {},
   "outputs": [
    {
     "name": "stdout",
     "output_type": "stream",
     "text": [
      "Mean Absolute Error of Linear Regression Model is: 1.8633569811879984\n",
      "Mean Squared Error of Linear Regression Model is: 5.665470038987818\n",
      "R2 Score of Linear Regression is: 0.4240506279421571\n"
     ]
    }
   ],
   "source": [
    "lr_mae=mean_absolute_error(lr.predict(xval), yval)\n",
    "lr_mse=mean_squared_error(lr.predict(xval), yval)\n",
    "lr_r2score=lr.score(xval,yval)\n",
    "\n",
    "print('Mean Absolute Error of Linear Regression Model is:',lr_mae)\n",
    "print('Mean Squared Error of Linear Regression Model is:',lr_mse)\n",
    "print(\"R2 Score of Linear Regression is:\", lr_r2score)"
   ]
  },
  {
   "cell_type": "markdown",
   "metadata": {},
   "source": [
    "## Random Forest Regressor"
   ]
  },
  {
   "cell_type": "code",
   "execution_count": 266,
   "metadata": {},
   "outputs": [
    {
     "data": {
      "text/plain": [
       "MultiOutputRegressor(estimator=RandomForestRegressor(bootstrap=True,\n",
       "                                                     ccp_alpha=0.0,\n",
       "                                                     criterion='mse',\n",
       "                                                     max_depth=None,\n",
       "                                                     max_features='auto',\n",
       "                                                     max_leaf_nodes=None,\n",
       "                                                     max_samples=None,\n",
       "                                                     min_impurity_decrease=0.0,\n",
       "                                                     min_impurity_split=None,\n",
       "                                                     min_samples_leaf=1,\n",
       "                                                     min_samples_split=2,\n",
       "                                                     min_weight_fraction_leaf=0.0,\n",
       "                                                     n_estimators=10,\n",
       "                                                     n_jobs=None,\n",
       "                                                     oob_score=False,\n",
       "                                                     random_state=5, verbose=0,\n",
       "                                                     warm_start=False),\n",
       "                     n_jobs=None)"
      ]
     },
     "execution_count": 266,
     "metadata": {},
     "output_type": "execute_result"
    }
   ],
   "source": [
    "from sklearn.multioutput import MultiOutputRegressor\n",
    "from sklearn.ensemble import RandomForestRegressor\n",
    "rf= MultiOutputRegressor(RandomForestRegressor(n_estimators=10,random_state=5))\n",
    "rf.fit(xtr, ytr)"
   ]
  },
  {
   "cell_type": "markdown",
   "metadata": {},
   "source": [
    "## Evaluating Random Forest Regressor model"
   ]
  },
  {
   "cell_type": "code",
   "execution_count": 267,
   "metadata": {},
   "outputs": [
    {
     "name": "stdout",
     "output_type": "stream",
     "text": [
      "Mean Absolute Error of Random Forest Regression Model is: 1.7934028822226131\n",
      "Mean Squared Error of Random Forest Regression Model is: 5.182440181574579\n",
      "R2 Score of Random Forest Regression is: 0.47225396605815206\n"
     ]
    }
   ],
   "source": [
    "rf_mae=mean_absolute_error(rf.predict(xval), yval)\n",
    "rf_mse=mean_squared_error(rf.predict(xval), yval)\n",
    "rf_r2score=rf.score(xval,yval)\n",
    "\n",
    "print('Mean Absolute Error of Random Forest Regression Model is:',rf_mae)\n",
    "print('Mean Squared Error of Random Forest Regression Model is:',rf_mse)\n",
    "print(\"R2 Score of Random Forest Regression is:\", rf_r2score)"
   ]
  },
  {
   "cell_type": "markdown",
   "metadata": {},
   "source": [
    "## Gradient Boosting Regressor"
   ]
  },
  {
   "cell_type": "code",
   "execution_count": 268,
   "metadata": {},
   "outputs": [
    {
     "data": {
      "text/plain": [
       "MultiOutputRegressor(estimator=XGBRegressor(base_score=None, booster=None,\n",
       "                                            colsample_bylevel=None,\n",
       "                                            colsample_bynode=None,\n",
       "                                            colsample_bytree=None, gamma=None,\n",
       "                                            gpu_id=None, importance_type='gain',\n",
       "                                            interaction_constraints=None,\n",
       "                                            learning_rate=None,\n",
       "                                            max_delta_step=None, max_depth=None,\n",
       "                                            min_child_weight=None, missing=nan,\n",
       "                                            monotone_constraints=None,\n",
       "                                            n_estimators=100, n_jobs=None,\n",
       "                                            num_parallel_tree=None,\n",
       "                                            objective='reg:squarederror',\n",
       "                                            random_state=None, reg_alpha=None,\n",
       "                                            reg_lambda=None,\n",
       "                                            scale_pos_weight=None,\n",
       "                                            subsample=None, tree_method=None,\n",
       "                                            validate_parameters=None,\n",
       "                                            verbosity=None),\n",
       "                     n_jobs=None)"
      ]
     },
     "execution_count": 268,
     "metadata": {},
     "output_type": "execute_result"
    }
   ],
   "source": [
    "from xgboost import XGBRegressor\n",
    "\n",
    "gb = MultiOutputRegressor(XGBRegressor())\n",
    "#training process\n",
    "gb.fit (xtr, ytr)"
   ]
  },
  {
   "cell_type": "markdown",
   "metadata": {},
   "source": [
    "## Evaluating Gradient Boosting Regressor Model"
   ]
  },
  {
   "cell_type": "code",
   "execution_count": 270,
   "metadata": {},
   "outputs": [
    {
     "name": "stdout",
     "output_type": "stream",
     "text": [
      "Mean Absolute Error of Gradient Boosting Regression Model is: 1.7189645640945874\n",
      "Mean Squared Error of Gradient Boosting Regression Model is: 4.7782405274185\n",
      "R2 Score of Gradient Boosting Regression is: 0.5133224383841308\n"
     ]
    }
   ],
   "source": [
    "gb_mae=mean_absolute_error(gb.predict(xval), yval)\n",
    "gb_mse=mean_squared_error(gb.predict(xval), yval)\n",
    "gb_r2score=gb.score(xval,yval)\n",
    "\n",
    "print('Mean Absolute Error of Gradient Boosting Regression Model is:',gb_mae)\n",
    "print('Mean Squared Error of Gradient Boosting Regression Model is:',gb_mse)\n",
    "print(\"R2 Score of Gradient Boosting Regression is:\", gb_r2score)"
   ]
  },
  {
   "cell_type": "markdown",
   "metadata": {},
   "source": [
    "## Neural Network(Multi-layer Perceptron) regressor"
   ]
  },
  {
   "cell_type": "code",
   "execution_count": 274,
   "metadata": {},
   "outputs": [
    {
     "data": {
      "text/plain": [
       "MLPRegressor(activation='relu', alpha=0.0001, batch_size='auto', beta_1=0.9,\n",
       "             beta_2=0.999, early_stopping=False, epsilon=1e-08,\n",
       "             hidden_layer_sizes=(100,), learning_rate='constant',\n",
       "             learning_rate_init=0.001, max_fun=15000, max_iter=500,\n",
       "             momentum=0.9, n_iter_no_change=10, nesterovs_momentum=True,\n",
       "             power_t=0.5, random_state=5, shuffle=True, solver='adam',\n",
       "             tol=0.0001, validation_fraction=0.1, verbose=False,\n",
       "             warm_start=False)"
      ]
     },
     "execution_count": 274,
     "metadata": {},
     "output_type": "execute_result"
    }
   ],
   "source": [
    "from sklearn.neural_network import MLPRegressor\n",
    "\n",
    "mlp= MLPRegressor(max_iter=500, random_state=5)\n",
    "mlp.fit(xtr,ytr)"
   ]
  },
  {
   "cell_type": "markdown",
   "metadata": {},
   "source": [
    "## Evaluating Multi-layer Perceptron regressor model"
   ]
  },
  {
   "cell_type": "code",
   "execution_count": 275,
   "metadata": {},
   "outputs": [
    {
     "name": "stdout",
     "output_type": "stream",
     "text": [
      "Mean Absolute Error of Multi-layer Perceptron regressor Model is: 3.5972380053233866\n",
      "Mean Squared Error of Multi-layer Perceptron regressor Model is: 19.38537517987625\n",
      "R2 Score of Multi-layer Perceptron regressor is: -0.9707093295210745\n"
     ]
    }
   ],
   "source": [
    "mlp_mae=mean_absolute_error(mlp.predict(xval), yval)\n",
    "mlp_mse=mean_squared_error(mlp.predict(xval), yval)\n",
    "mlp_r2score=mlp.score(xval,yval)\n",
    "\n",
    "print('Mean Absolute Error of Multi-layer Perceptron regressor Model is:',mlp_mae)\n",
    "print('Mean Squared Error of Multi-layer Perceptron regressor Model is:',mlp_mse)\n",
    "print(\"R2 Score of Multi-layer Perceptron regressor is:\", mlp_r2score)"
   ]
  },
  {
   "cell_type": "markdown",
   "metadata": {},
   "source": [
    "# Step 4: Visualizing Results\n",
    "- Let's plot mean squared errors for every model"
   ]
  },
  {
   "cell_type": "code",
   "execution_count": 298,
   "metadata": {},
   "outputs": [
    {
     "data": {
      "text/plain": [
       "([<matplotlib.axis.XTick at 0x13736741b08>,\n",
       "  <matplotlib.axis.XTick at 0x13732ee5ec8>,\n",
       "  <matplotlib.axis.XTick at 0x13732eddd88>,\n",
       "  <matplotlib.axis.XTick at 0x13704019e08>],\n",
       " <a list of 4 Text xticklabel objects>)"
      ]
     },
     "execution_count": 298,
     "metadata": {},
     "output_type": "execute_result"
    },
    {
     "data": {
      "image/png": "[encoded data removed]",
      "text/plain": [
       "<Figure size 432x288 with 1 Axes>"
      ]
     },
     "metadata": {
      "needs_background": "light"
     },
     "output_type": "display_data"
    }
   ],
   "source": [
    "test_mse = (lr_mse, rf_mse ,gb_mse ,mlp_mse)\n",
    "plt.bar(index, test_mse)\n",
    "plt.xlabel('Regression Models')\n",
    "plt.ylabel('Mean Square Error')\n",
    "plt.title('Mean Square Error for each model')\n",
    "plt.xticks(index, ('Linear\\nRegressor', 'Rainforest\\nRegressor', 'Gradient\\nBoost\\nRegressor', 'Neural Network\\n(MLP)Regressor'))"
   ]
  },
  {
   "cell_type": "markdown",
   "metadata": {},
   "source": [
    "\n",
    "- Let's plot mean absolute errors for every model"
   ]
  },
  {
   "cell_type": "code",
   "execution_count": 301,
   "metadata": {},
   "outputs": [
    {
     "data": {
      "text/plain": [
       "([<matplotlib.axis.XTick at 0x13793311848>,\n",
       "  <matplotlib.axis.XTick at 0x137019be288>,\n",
       "  <matplotlib.axis.XTick at 0x1379330adc8>,\n",
       "  <matplotlib.axis.XTick at 0x13732f21188>],\n",
       " <a list of 4 Text xticklabel objects>)"
      ]
     },
     "execution_count": 301,
     "metadata": {},
     "output_type": "execute_result"
    },
    {
     "data": {
      "image/png": "[encoded data removed]",
      "text/plain": [
       "<Figure size 432x288 with 1 Axes>"
      ]
     },
     "metadata": {
      "needs_background": "light"
     },
     "output_type": "display_data"
    }
   ],
   "source": [
    "test_mae = (lr_mae, rf_mae ,gb_mae ,mlp_mae)\n",
    " \n",
    "# create plot\n",
    "plt.bar(index, test_mae)\n",
    " \n",
    "plt.xlabel('Regression Models')\n",
    "plt.ylabel('Mean Absolute Error')\n",
    "plt.title('Mean Absolute Error for each model')\n",
    "plt.xticks(index, ('Linear\\nRegressor', 'Rainforest\\nRegressor', 'Gradient\\nBoost\\nRegressor', 'Neural Network\\n(MLP)Regressor'))\n"
   ]
  },
  {
   "cell_type": "code",
   "execution_count": 305,
   "metadata": {},
   "outputs": [
    {
     "name": "stdout",
     "output_type": "stream",
     "text": [
      "R2 Score of Linear Regression is: 0.4240506279421571\n",
      "R2 Score of Random Forest Regression is: 0.47225396605815206\n",
      "R2 Score of Gradient Boosting Regression is: 0.5133224383841308\n",
      "R2 Score of Multi-layer Perceptron regressor is: -0.9707093295210745\n"
     ]
    }
   ],
   "source": [
    "print(\"R2 Score of Linear Regression is:\", lr_r2score)\n",
    "print(\"R2 Score of Random Forest Regression is:\", rf_r2score)\n",
    "print(\"R2 Score of Gradient Boosting Regression is:\", gb_r2score)\n",
    "print(\"R2 Score of Multi-layer Perceptron regressor is:\", mlp_r2score)"
   ]
  },
  {
   "cell_type": "markdown",
   "metadata": {},
   "source": [
    "## Observation:\n",
    "- We can say that Gradient Boost Regressor performed better than all others\n",
    "- Although Neural Network(MLP) performed the worst, by tuning parameters we can make neural network to work better than all others. This is clear indication of over-fitting as we have left all parameters to default values.\n",
    "\n",
    "## Conclusion and Future Developments:\n",
    "- We could achieve quite good performance even without understanding lot about how these features actually worked.\n",
    "- If we could understand how all the features affect score in-depth then we could make our models to predict much more accurately.\n",
    "- we can also work a bit on Neural Network model by tuning parameters to achieve best results."
   ]
  }
 ],
 "metadata": {
  "kernelspec": {
   "display_name": "Python 3",
   "language": "python",
   "name": "python3"
  },
  "language_info": {
   "codemirror_mode": {
    "name": "ipython",
    "version": 3
   },
   "file_extension": ".py",
   "mimetype": "text/x-python",
   "name": "python",
   "nbconvert_exporter": "python",
   "pygments_lexer": "ipython3",
   "version": "3.7.6"
  }
 },
 "nbformat": 4,
 "nbformat_minor": 4
}
